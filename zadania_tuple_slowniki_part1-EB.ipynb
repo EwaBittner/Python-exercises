{
 "cells": [
  {
   "cell_type": "markdown",
   "id": "f0c6b8d7",
   "metadata": {},
   "source": [
    "## TUPLE (krotki)"
   ]
  },
  {
   "cell_type": "markdown",
   "id": "55e39fad",
   "metadata": {},
   "source": [
    "1. Napisz tuple składającą się z dowolnych tupli (np. tpl = ((1,2,3), (1,8,1)))\n",
    "<br> - Podaj jej elementy o pierwszym i ostatnim indexie. \n",
    "<br> - Policz elementy.\n",
    "<br> - Jeśli jest to tupla numeryczna podać wartość min i max.\n",
    "<br> - Jak dodać na końcu jeszcze jedną tuple p = (8,19,10)?"
   ]
  },
  {
   "cell_type": "code",
   "execution_count": 12,
   "id": "8f2c4750",
   "metadata": {},
   "outputs": [
    {
     "name": "stdout",
     "output_type": "stream",
     "text": [
      "(1, 2, 3) (7, 8, 9)\n",
      "3\n",
      "2.0 101.33333333333333\n",
      "((1, 2, 3), (4, 100, 200), (7, 8, 9), 10, 11, 12)\n"
     ]
    }
   ],
   "source": [
    "def averageOfTupple(t):\n",
    "    sum = 0\n",
    "    for i in t:\n",
    "        sum = sum + i\n",
    "    return sum / len(t)\n",
    "\n",
    "def listOfAveragesOfTupples(tt):\n",
    "    sumOfSum = []\n",
    "    for t in tt:\n",
    "        sumOfSum.append(averageOfTupple(t))\n",
    "    return sumOfSum\n",
    "\n",
    "tuple1 = ((1,2,3), (4,100,5), (7,8,9))\n",
    "print(tuple1[0], tuple1[-1])\n",
    "print(len(tuple1))\n",
    "print(min(listOfAveragesOfTupples(tuple1)), max(listOfAveragesOfTupples(tuple1)))\n",
    "tuple2 = (10,11,12)\n",
    "print(tuple1+tuple2)"
   ]
  },
  {
   "cell_type": "markdown",
   "id": "dee52e01",
   "metadata": {},
   "source": [
    "2. Dodaj do siebie krotki a = (4,5,6) i b=(4,67,10).\n",
    "<br> Skonwertuj powstałą zmienną na listę.\n",
    "<br> Podaj sumę, wartość max i min. \n",
    "<br> Policz elementy."
   ]
  },
  {
   "cell_type": "code",
   "execution_count": null,
   "id": "e9650f58",
   "metadata": {},
   "outputs": [],
   "source": [
    "a = (4,5,6)\n",
    "b = (4,67,10)"
   ]
  },
  {
   "cell_type": "markdown",
   "id": "c86c0311",
   "metadata": {},
   "source": [
    "3. Napisz program (czyli funkcjonujacy kod:)), który sprawdza czy dany element istnieje w tupli. \n",
    "<br> Sprawdź go na przykładowej krotce.\n",
    "*dodatkowe:\n",
    "<br> 1*: Z dowolnej tupli utwórz odwróconą listę.\n",
    "<br> 2**. Napisz program który podaje różnicę sum wartości w dwóch tuplach"
   ]
  },
  {
   "cell_type": "code",
   "execution_count": null,
   "id": "6c6bbbfa",
   "metadata": {},
   "outputs": [],
   "source": []
  },
  {
   "cell_type": "markdown",
   "id": "a5eb0db7",
   "metadata": {},
   "source": [
    "## SŁOWNIKI"
   ]
  },
  {
   "cell_type": "markdown",
   "id": "fac3ddb6",
   "metadata": {},
   "source": [
    "Utwórz słownik: słownik = {\"Ania\":1200, \"Ola\":1300, \"Arek\":3000} \n",
    "<br> Zaktualizuj dla niego wartość Ania:200, Arek:100\n",
    "<br> Sprawdź czy istnieje w słowniku „Ola”\n",
    "<br> Sprawdź czy ktoś zarabia 200 zł\n",
    "<br> Policz elementy słownika\n",
    "<br> Wyczyść słownik."
   ]
  },
  {
   "cell_type": "code",
   "execution_count": null,
   "id": "9426e85d",
   "metadata": {},
   "outputs": [],
   "source": []
  }
 ],
 "metadata": {
  "kernelspec": {
   "display_name": "Python 3",
   "language": "python",
   "name": "python3"
  },
  "language_info": {
   "codemirror_mode": {
    "name": "ipython",
    "version": 3
   },
   "file_extension": ".py",
   "mimetype": "text/x-python",
   "name": "python",
   "nbconvert_exporter": "python",
   "pygments_lexer": "ipython3",
   "version": "3.8.8"
  }
 },
 "nbformat": 4,
 "nbformat_minor": 5
}
