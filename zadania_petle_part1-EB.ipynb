{
 "cells": [
  {
   "cell_type": "markdown",
   "id": "f0c6b8d7",
   "metadata": {},
   "source": [
    "## PĘTLE"
   ]
  },
  {
   "cell_type": "markdown",
   "id": "55e39fad",
   "metadata": {},
   "source": [
    "1. Proszę za pomocą pętli i instrukcji if wyświetlić następujący ciąg:\n",
    "<br> 1\n",
    "<br> 2\n",
    "<br> 3\n",
    "<br> 4\n",
    "<br> Znalazłem 5! \n",
    "<br> 6\n",
    "<br> 7"
   ]
  },
  {
   "cell_type": "code",
   "execution_count": 2,
   "id": "b5aeed79",
   "metadata": {},
   "outputs": [
    {
     "name": "stdout",
     "output_type": "stream",
     "text": [
      "1\n",
      "2\n",
      "3\n",
      "4\n",
      "Znalazłem 5!\n",
      "6\n",
      "7\n"
     ]
    }
   ],
   "source": [
    "for n in range (1,8):\n",
    "    if n == 5:\n",
    "        print(\"Znalazłem 5!\")\n",
    "    else:\n",
    "        print(n)"
   ]
  },
  {
   "cell_type": "markdown",
   "id": "8095df30",
   "metadata": {},
   "source": [
    "2.  Proszę, używając pętli for, napisać kod, który poprosi o wpisanie sześciu wartości. Po wpisaniu tych wartości program ma podsumować ile razy wprowadzona została wartość 5 (*-trudniejsze).\n",
    "\n",
    "<br> Wprowadź dowolną liczbę od 1 do 10: 2 \n",
    "<br> Wprowadź dowolną liczbę od 1 do 10: 3 \n",
    "<br> Wprowadź dowolną liczbę od 1 do 10: 5 \n",
    "<br> Wprowadź dowolną liczbę od 1 do 10: 5 \n",
    "<br> Wprowadź dowolną liczbę od 1 do 10: 5 \n",
    "<br> Użytkownik wybrał 3 razy liczbę 5."
   ]
  },
  {
   "cell_type": "code",
   "execution_count": 50,
   "id": "2f93625b",
   "metadata": {},
   "outputs": [
    {
     "name": "stdout",
     "output_type": "stream",
     "text": [
      "Wprowadź dowolną liczbę od 1 do 10: 1\n",
      "Wprowadź dowolną liczbę od 1 do 10: 2\n",
      "Wprowadź dowolną liczbę od 1 do 10: 5\n",
      "Wprowadź dowolną liczbę od 1 do 10: 5\n",
      "Wprowadź dowolną liczbę od 1 do 10: 3\n",
      "Użytkownik wybrał  2  razy liczbę 5\n"
     ]
    }
   ],
   "source": [
    "given_numbers = []\n",
    "for i in range(5):\n",
    "    prompt_number = int(input(\"Wprowadź dowolną liczbę od 1 do 10: \"))\n",
    "    if prompt_number == 5:\n",
    "        given_numbers.append(prompt_number)\n",
    "print(\"Użytkownik wybrał \", len(given_numbers), \" razy liczbę 5.\")"
   ]
  },
  {
   "cell_type": "markdown",
   "id": "8f713bd2",
   "metadata": {},
   "source": [
    "3. Proszę, używając pętli for, napisać kod, który poprosi o wpisanie trzech wartości. Po wpisaniu tych wartości mają być one podsumowane.\n",
    "\n",
    "<br> Wprowadź wartość: 4\n",
    "<br> Wprowadź wartość: 2\n",
    "<br> Wprowadź wartość:\n",
    "<br> 2\n",
    "<br> Suma wpisanych wartości to: 8"
   ]
  },
  {
   "cell_type": "code",
   "execution_count": 26,
   "id": "5bac0169",
   "metadata": {},
   "outputs": [
    {
     "name": "stdout",
     "output_type": "stream",
     "text": [
      "Wprowadź wartość: 2\n",
      "Wprowadź wartość: 2\n",
      "Wprowadź wartość: 2\n",
      "Suma wpisanych wartości to:  6\n"
     ]
    }
   ],
   "source": [
    "numbers = []\n",
    "for j in range(3):\n",
    "    give_number = int(input(\"Wprowadź wartość: \"))\n",
    "    numbers.append(give_number)\n",
    "print(\"Suma wpisanych wartości to: \", sum(numbers))"
   ]
  },
  {
   "cell_type": "markdown",
   "id": "d588695d",
   "metadata": {},
   "source": [
    "4. Proszę, używając pętli, wypisać liczby parzyste od 0 do 10 za pomocą pętli"
   ]
  },
  {
   "cell_type": "code",
   "execution_count": 29,
   "id": "db9bed47",
   "metadata": {},
   "outputs": [
    {
     "name": "stdout",
     "output_type": "stream",
     "text": [
      "0\n",
      "2\n",
      "4\n",
      "6\n",
      "8\n",
      "10\n"
     ]
    }
   ],
   "source": [
    "for k in range(11):\n",
    "    if k % 2 == 0:\n",
    "        print(k)"
   ]
  },
  {
   "cell_type": "markdown",
   "id": "3e841569",
   "metadata": {},
   "source": [
    "5. Proszę, używając pętli, wypisać co trzecią liczbę z zakresu 1 do 100"
   ]
  },
  {
   "cell_type": "code",
   "execution_count": 31,
   "id": "e513b424",
   "metadata": {},
   "outputs": [
    {
     "name": "stdout",
     "output_type": "stream",
     "text": [
      "1\n",
      "4\n",
      "7\n",
      "10\n",
      "13\n",
      "16\n",
      "19\n",
      "22\n",
      "25\n",
      "28\n",
      "31\n",
      "34\n",
      "37\n",
      "40\n",
      "43\n",
      "46\n",
      "49\n",
      "52\n",
      "55\n",
      "58\n",
      "61\n",
      "64\n",
      "67\n",
      "70\n",
      "73\n",
      "76\n",
      "79\n",
      "82\n",
      "85\n",
      "88\n",
      "91\n",
      "94\n",
      "97\n",
      "100\n"
     ]
    }
   ],
   "source": [
    "for l in range(1, 101, 3):\n",
    "    print(l)"
   ]
  },
  {
   "cell_type": "markdown",
   "id": "523b99fe",
   "metadata": {},
   "source": [
    "6. Proszę, używając pętli wypisać liczby do 100, przy czym pętla ma (*-trudniejsze):\n",
    "- omijać wszystkie podzielne przez 10\n",
    "- przerywać jeśli coś będzie podzielne przez 33"
   ]
  },
  {
   "cell_type": "code",
   "execution_count": 37,
   "id": "7c9b38dc",
   "metadata": {},
   "outputs": [
    {
     "name": "stdout",
     "output_type": "stream",
     "text": [
      "1\n",
      "2\n",
      "3\n",
      "4\n",
      "5\n",
      "6\n",
      "7\n",
      "8\n",
      "9\n",
      "11\n",
      "12\n",
      "13\n",
      "14\n",
      "15\n",
      "16\n",
      "17\n",
      "18\n",
      "19\n",
      "21\n",
      "22\n",
      "23\n",
      "24\n",
      "25\n",
      "26\n",
      "27\n",
      "28\n",
      "29\n",
      "31\n",
      "32\n"
     ]
    }
   ],
   "source": [
    "for m in range(101):\n",
    "    if m % 10 == 0:\n",
    "        continue\n",
    "    if m % 33 == 0:\n",
    "        break\n",
    "    print(m)"
   ]
  }
 ],
 "metadata": {
  "kernelspec": {
   "display_name": "Python 3",
   "language": "python",
   "name": "python3"
  },
  "language_info": {
   "codemirror_mode": {
    "name": "ipython",
    "version": 3
   },
   "file_extension": ".py",
   "mimetype": "text/x-python",
   "name": "python",
   "nbconvert_exporter": "python",
   "pygments_lexer": "ipython3",
   "version": "3.8.8"
  }
 },
 "nbformat": 4,
 "nbformat_minor": 5
}
