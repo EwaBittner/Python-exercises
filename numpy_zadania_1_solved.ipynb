{
 "cells": [
  {
   "cell_type": "markdown",
   "id": "46950f4f",
   "metadata": {},
   "source": [
    "## Przygotowanie do pracy - import pakietu, sprawdzenie wersji"
   ]
  },
  {
   "cell_type": "code",
   "execution_count": 2,
   "id": "2a9f5838",
   "metadata": {},
   "outputs": [
    {
     "data": {
      "text/plain": [
       "'1.20.1'"
      ]
     },
     "execution_count": 2,
     "metadata": {},
     "output_type": "execute_result"
    }
   ],
   "source": [
    "import numpy as np\n",
    "np.__version__"
   ]
  },
  {
   "cell_type": "markdown",
   "id": "ea65d780",
   "metadata": {},
   "source": [
    "### Pamiętaj, żeby przy wykonywaniu tych zadań posługiwać się dokumentacją biblioteki numpy!\n",
    "https://numpy.org/doc/\n",
    "\n",
    "U góry widoczna jest wersja Twojej biblioteki. Wybierz właściwa dokumentację :)"
   ]
  },
  {
   "cell_type": "markdown",
   "id": "e3c20b3d",
   "metadata": {},
   "source": [
    "Zad.1. Stworz wektor (ndarray) o wielkosci 10 elementow. "
   ]
  },
  {
   "cell_type": "code",
   "execution_count": 3,
   "id": "8a758bcf",
   "metadata": {},
   "outputs": [],
   "source": [
    "Z = np.zeros(10) #moze tez byc jakikolwiek inny, nie ma tu wyspecyfikowanych wartosci"
   ]
  },
  {
   "cell_type": "markdown",
   "id": "04e69ed8",
   "metadata": {},
   "source": [
    "Zad.2. Stworz wektor (ndarray) o wartościach z zakresu od 10 do 109"
   ]
  },
  {
   "cell_type": "code",
   "execution_count": 6,
   "id": "5dbe1a08",
   "metadata": {},
   "outputs": [],
   "source": [
    "Z = np.arange(10,110)"
   ]
  },
  {
   "cell_type": "code",
   "execution_count": 7,
   "id": "ea5bf251",
   "metadata": {},
   "outputs": [
    {
     "data": {
      "text/plain": [
       "array([ 10,  11,  12,  13,  14,  15,  16,  17,  18,  19,  20,  21,  22,\n",
       "        23,  24,  25,  26,  27,  28,  29,  30,  31,  32,  33,  34,  35,\n",
       "        36,  37,  38,  39,  40,  41,  42,  43,  44,  45,  46,  47,  48,\n",
       "        49,  50,  51,  52,  53,  54,  55,  56,  57,  58,  59,  60,  61,\n",
       "        62,  63,  64,  65,  66,  67,  68,  69,  70,  71,  72,  73,  74,\n",
       "        75,  76,  77,  78,  79,  80,  81,  82,  83,  84,  85,  86,  87,\n",
       "        88,  89,  90,  91,  92,  93,  94,  95,  96,  97,  98,  99, 100,\n",
       "       101, 102, 103, 104, 105, 106, 107, 108, 109])"
      ]
     },
     "execution_count": 7,
     "metadata": {},
     "output_type": "execute_result"
    }
   ],
   "source": [
    "Z"
   ]
  },
  {
   "cell_type": "markdown",
   "id": "112bb8a1",
   "metadata": {},
   "source": [
    "Zad.3. Znajdz w dokumentacji numpy funkcję, która odwróci ten wektor. Ostatni jego element ma się stać pierwszym."
   ]
  },
  {
   "cell_type": "code",
   "execution_count": 76,
   "id": "73a39ad2",
   "metadata": {},
   "outputs": [],
   "source": [
    "#sposob 1 - znany"
   ]
  },
  {
   "cell_type": "code",
   "execution_count": 8,
   "id": "e1a8a19d",
   "metadata": {},
   "outputs": [],
   "source": [
    "Z = Z[::-1]"
   ]
  },
  {
   "cell_type": "code",
   "execution_count": 9,
   "id": "b90ffd5f",
   "metadata": {},
   "outputs": [
    {
     "data": {
      "text/plain": [
       "array([109, 108, 107, 106, 105, 104, 103, 102, 101, 100,  99,  98,  97,\n",
       "        96,  95,  94,  93,  92,  91,  90,  89,  88,  87,  86,  85,  84,\n",
       "        83,  82,  81,  80,  79,  78,  77,  76,  75,  74,  73,  72,  71,\n",
       "        70,  69,  68,  67,  66,  65,  64,  63,  62,  61,  60,  59,  58,\n",
       "        57,  56,  55,  54,  53,  52,  51,  50,  49,  48,  47,  46,  45,\n",
       "        44,  43,  42,  41,  40,  39,  38,  37,  36,  35,  34,  33,  32,\n",
       "        31,  30,  29,  28,  27,  26,  25,  24,  23,  22,  21,  20,  19,\n",
       "        18,  17,  16,  15,  14,  13,  12,  11,  10])"
      ]
     },
     "execution_count": 9,
     "metadata": {},
     "output_type": "execute_result"
    }
   ],
   "source": [
    "Z"
   ]
  },
  {
   "cell_type": "code",
   "execution_count": 77,
   "id": "714b7b45",
   "metadata": {},
   "outputs": [],
   "source": [
    "#sposob 2 - nowa funkcja"
   ]
  },
  {
   "cell_type": "code",
   "execution_count": 21,
   "id": "da8e508c",
   "metadata": {},
   "outputs": [
    {
     "data": {
      "text/plain": [
       "array([109, 108, 107, 106, 105, 104, 103, 102, 101, 100,  99,  98,  97,\n",
       "        96,  95,  94,  93,  92,  91,  90,  89,  88,  87,  86,  85,  84,\n",
       "        83,  82,  81,  80,  79,  78,  77,  76,  75,  74,  73,  72,  71,\n",
       "        70,  69,  68,  67,  66,  65,  64,  63,  62,  61,  60,  59,  58,\n",
       "        57,  56,  55,  54,  53,  52,  51,  50,  49,  48,  47,  46,  45,\n",
       "        44,  43,  42,  41,  40,  39,  38,  37,  36,  35,  34,  33,  32,\n",
       "        31,  30,  29,  28,  27,  26,  25,  24,  23,  22,  21,  20,  19,\n",
       "        18,  17,  16,  15,  14,  13,  12,  11,  10])"
      ]
     },
     "execution_count": 21,
     "metadata": {},
     "output_type": "execute_result"
    }
   ],
   "source": [
    "Z = np.arange(10,110)\n",
    "np.flip(Z)"
   ]
  },
  {
   "cell_type": "markdown",
   "id": "95bd541b",
   "metadata": {},
   "source": [
    "Zad.4. Stworz macierz 3x3 o wartościach od 0 do 8."
   ]
  },
  {
   "cell_type": "code",
   "execution_count": 22,
   "id": "9acb758e",
   "metadata": {},
   "outputs": [
    {
     "data": {
      "text/plain": [
       "array([[0, 1, 2],\n",
       "       [3, 4, 5],\n",
       "       [6, 7, 8]])"
      ]
     },
     "execution_count": 22,
     "metadata": {},
     "output_type": "execute_result"
    }
   ],
   "source": [
    "np.arange(0,9).reshape(3,3)"
   ]
  },
  {
   "cell_type": "markdown",
   "id": "bd6e954f",
   "metadata": {},
   "source": [
    "Zad.5. Stworz macierz 10x10 z randomowymi wartościami (jak na początku notebooka z zajęć).\n",
    "\n",
    "Podaj jej max i min. "
   ]
  },
  {
   "cell_type": "code",
   "execution_count": 30,
   "id": "3a0f5ed5",
   "metadata": {},
   "outputs": [],
   "source": [
    "N = np.random.randint(1,10000,(10,10))"
   ]
  },
  {
   "cell_type": "code",
   "execution_count": 31,
   "id": "b439f319",
   "metadata": {},
   "outputs": [
    {
     "data": {
      "text/plain": [
       "array([[3296, 9300, 5022, 4382, 7226, 5146, 9746, 4402, 3205, 3420],\n",
       "       [4459, 9277, 8132, 3009, 3356, 3195, 4194, 7176, 2020, 8782],\n",
       "       [9822, 3671, 5957,  101, 1866, 4783, 6356, 2125, 6267, 7086],\n",
       "       [4432, 6797, 3744, 6524, 9478, 1202, 5567, 1587, 7765, 9896],\n",
       "       [5966, 1263, 5003, 5095, 6635, 8882, 9096, 9525, 4457,   73],\n",
       "       [5918, 6747, 7849, 5099, 2358, 5638, 4188, 1766, 4584, 4969],\n",
       "       [2589, 4143, 4994, 9259, 3542,   90, 6371, 5767,  103, 5588],\n",
       "       [4546, 7021, 4837,  204, 7458, 3059, 6762, 6321, 6568, 4935],\n",
       "       [9029, 8061, 3660, 4259, 7758, 9911,  469, 4488, 6086, 3732],\n",
       "       [4304, 8927, 1861, 4681,  272, 2264, 9845, 2359, 7534, 3297]])"
      ]
     },
     "execution_count": 31,
     "metadata": {},
     "output_type": "execute_result"
    }
   ],
   "source": [
    "N"
   ]
  },
  {
   "cell_type": "code",
   "execution_count": 32,
   "id": "cae53a48",
   "metadata": {},
   "outputs": [
    {
     "data": {
      "text/plain": [
       "9911"
      ]
     },
     "execution_count": 32,
     "metadata": {},
     "output_type": "execute_result"
    }
   ],
   "source": [
    "N.max()"
   ]
  },
  {
   "cell_type": "code",
   "execution_count": 33,
   "id": "6b469351",
   "metadata": {},
   "outputs": [
    {
     "data": {
      "text/plain": [
       "73"
      ]
     },
     "execution_count": 33,
     "metadata": {},
     "output_type": "execute_result"
    }
   ],
   "source": [
    "N.min()"
   ]
  },
  {
   "cell_type": "markdown",
   "id": "cde91c05",
   "metadata": {},
   "source": [
    "Zad.6. Podano następujący skrypt:\n",
    "    \n",
    "```python\n",
    "np.array(np.nan) / 5\n",
    "```\n",
    "Jaki będzie jej wynik? Podaj odpowiedź bez wywoływania."
   ]
  },
  {
   "cell_type": "markdown",
   "id": "4946ee58",
   "metadata": {},
   "source": [
    "np.nan"
   ]
  },
  {
   "cell_type": "markdown",
   "id": "db2dba22",
   "metadata": {},
   "source": [
    "Zad.7. Dodaj do siebie poniższe macierze\n",
    "\n",
    "```python\n",
    "a = np.array([[1,2,3],\n",
    "              [4,5,6]])\n",
    "\n",
    "b = np.array([[10,11,12],\n",
    "              [13,14,15]])\n",
    "```"
   ]
  },
  {
   "cell_type": "code",
   "execution_count": 34,
   "id": "9937b795",
   "metadata": {},
   "outputs": [],
   "source": [
    "a = np.array([[1,2,3],\n",
    "              [4,5,6]])"
   ]
  },
  {
   "cell_type": "code",
   "execution_count": 35,
   "id": "93ca4e0f",
   "metadata": {},
   "outputs": [],
   "source": [
    "b = np.array([[10,11,12],\n",
    "              [13,14,15]])"
   ]
  },
  {
   "cell_type": "code",
   "execution_count": 36,
   "id": "73b01b05",
   "metadata": {},
   "outputs": [
    {
     "data": {
      "text/plain": [
       "array([[11, 13, 15],\n",
       "       [17, 19, 21]])"
      ]
     },
     "execution_count": 36,
     "metadata": {},
     "output_type": "execute_result"
    }
   ],
   "source": [
    "a + b"
   ]
  },
  {
   "cell_type": "markdown",
   "id": "9e5b5772",
   "metadata": {},
   "source": [
    "Zad.8. Majac ponizsza macierz:\n",
    "\n",
    "```python\n",
    "a = np.array([x for x in range(27)])\n",
    "```\n",
    "zreshapuj ja do 3 możliwych arrayek 3 wymiarowych. Za kazdym razem nie alokuj wyniku do zmienej."
   ]
  },
  {
   "cell_type": "code",
   "execution_count": 37,
   "id": "55f3e09a",
   "metadata": {},
   "outputs": [],
   "source": [
    "a = np.array([x for x in range(27)])"
   ]
  },
  {
   "cell_type": "code",
   "execution_count": 39,
   "id": "157d4b86",
   "metadata": {},
   "outputs": [
    {
     "data": {
      "text/plain": [
       "array([[[ 0,  1,  2],\n",
       "        [ 3,  4,  5],\n",
       "        [ 6,  7,  8]],\n",
       "\n",
       "       [[ 9, 10, 11],\n",
       "        [12, 13, 14],\n",
       "        [15, 16, 17]],\n",
       "\n",
       "       [[18, 19, 20],\n",
       "        [21, 22, 23],\n",
       "        [24, 25, 26]]])"
      ]
     },
     "execution_count": 39,
     "metadata": {},
     "output_type": "execute_result"
    }
   ],
   "source": [
    "a.reshape(3,3,3)"
   ]
  },
  {
   "cell_type": "markdown",
   "id": "6451a40a",
   "metadata": {},
   "source": [
    "Zad.9. Zmień typ danych w arrayce na bool\n",
    "\n",
    "```python\n",
    "a = np.array([[1, 0, 0],\n",
    "              [1, 1, 1],\n",
    "              [0, 0, 0]])\n",
    "```"
   ]
  },
  {
   "cell_type": "code",
   "execution_count": 41,
   "id": "ae054622",
   "metadata": {},
   "outputs": [],
   "source": [
    "a = np.array([[1, 0, 0],\n",
    "              [1, 1, 1],\n",
    "              [0, 0, 0]])"
   ]
  },
  {
   "cell_type": "code",
   "execution_count": 42,
   "id": "a110b6a3",
   "metadata": {},
   "outputs": [
    {
     "data": {
      "text/plain": [
       "array([[ True, False, False],\n",
       "       [ True,  True,  True],\n",
       "       [False, False, False]])"
      ]
     },
     "execution_count": 42,
     "metadata": {},
     "output_type": "execute_result"
    }
   ],
   "source": [
    "np.array(a, dtype=bool)"
   ]
  },
  {
   "cell_type": "markdown",
   "id": "34d2b505",
   "metadata": {},
   "source": [
    "Zad.10. Podaj ilość elementów poniższej macierzy, jej kształt i spłaszcz ją.\n",
    "\n",
    "```python\n",
    "a2 = np.array([[7,8],\n",
    "               [9,10],\n",
    "               [10,11]])\n",
    "```"
   ]
  },
  {
   "cell_type": "code",
   "execution_count": 45,
   "id": "24ea8d1b",
   "metadata": {},
   "outputs": [],
   "source": [
    "a2 = np.array([[7,8],\n",
    "               [9,10],\n",
    "               [10,11]])"
   ]
  },
  {
   "cell_type": "code",
   "execution_count": 47,
   "id": "223419a7",
   "metadata": {},
   "outputs": [
    {
     "data": {
      "text/plain": [
       "6"
      ]
     },
     "execution_count": 47,
     "metadata": {},
     "output_type": "execute_result"
    }
   ],
   "source": [
    "a2.size"
   ]
  },
  {
   "cell_type": "code",
   "execution_count": 48,
   "id": "e0ca0202",
   "metadata": {},
   "outputs": [
    {
     "data": {
      "text/plain": [
       "(3, 2)"
      ]
     },
     "execution_count": 48,
     "metadata": {},
     "output_type": "execute_result"
    }
   ],
   "source": [
    "a2.shape"
   ]
  },
  {
   "cell_type": "code",
   "execution_count": 49,
   "id": "8f72f996",
   "metadata": {},
   "outputs": [
    {
     "data": {
      "text/plain": [
       "array([ 7,  8,  9, 10, 10, 11])"
      ]
     },
     "execution_count": 49,
     "metadata": {},
     "output_type": "execute_result"
    }
   ],
   "source": [
    "a2.flatten()"
   ]
  },
  {
   "cell_type": "markdown",
   "id": "5f983baf",
   "metadata": {},
   "source": [
    "Zad.11. Stworz wektor o 10 elementach z randomowymi wartościami oraz przesortuj go."
   ]
  },
  {
   "cell_type": "code",
   "execution_count": 56,
   "id": "011ecf5f",
   "metadata": {},
   "outputs": [],
   "source": [
    "N = np.random.randint(1,10000,10)"
   ]
  },
  {
   "cell_type": "code",
   "execution_count": 59,
   "id": "303a6d03",
   "metadata": {},
   "outputs": [
    {
     "data": {
      "text/plain": [
       "array([1728, 3508, 3719, 4385, 4912, 7482, 7533, 9679, 9681, 9781])"
      ]
     },
     "execution_count": 59,
     "metadata": {},
     "output_type": "execute_result"
    }
   ],
   "source": [
    "N.sort()\n",
    "N"
   ]
  },
  {
   "cell_type": "markdown",
   "id": "781fa236",
   "metadata": {},
   "source": [
    "Zad.12. Mając arrayke\n",
    "\n",
    "Z = [1,2,3,4,5,6,7,8,9,10,11,12,13,14], \n",
    "\n",
    "Sprobuj wyprodukować taka jak poniższa\n",
    "\n",
    "R = [[1,2,3,4], [2,3,4,5], [3,4,5,6], ..., [11,12,13,14]]"
   ]
  },
  {
   "cell_type": "code",
   "execution_count": 40,
   "id": "8e84d3c2",
   "metadata": {},
   "outputs": [
    {
     "name": "stdout",
     "output_type": "stream",
     "text": [
      "[[ 1  2  3  4]\n",
      " [ 2  3  4  5]\n",
      " [ 3  4  5  6]\n",
      " [ 4  5  6  7]\n",
      " [ 5  6  7  8]\n",
      " [ 6  7  8  9]\n",
      " [ 7  8  9 10]\n",
      " [ 8  9 10 11]\n",
      " [ 9 10 11 12]\n",
      " [10 11 12 13]\n",
      " [11 12 13 14]]\n"
     ]
    }
   ],
   "source": [
    "Z = np.arange(1,15,dtype=np.uint32)\n",
    "R = np.lib.stride_tricks.as_strided(Z,(11,4),(4,4))\n",
    "print(R)"
   ]
  },
  {
   "cell_type": "markdown",
   "id": "c1494982",
   "metadata": {},
   "source": [
    "Zad.13. Połącz wertykalnie następujące arrayki\n",
    "\n",
    "```python\n",
    "a1 = np.array([[1,2],\n",
    "               [3,4],\n",
    "               [5,6]])\n",
    "\n",
    "a2 = np.array([[7,8],\n",
    "               [9,10],\n",
    "               [10,11]])\n",
    "```"
   ]
  },
  {
   "cell_type": "code",
   "execution_count": 61,
   "id": "69475bbe",
   "metadata": {},
   "outputs": [],
   "source": [
    "a1 = np.array([[1,2],\n",
    "               [3,4],\n",
    "               [5,6]])"
   ]
  },
  {
   "cell_type": "code",
   "execution_count": 62,
   "id": "e7820f60",
   "metadata": {},
   "outputs": [],
   "source": [
    "a2 = np.array([[7,8],\n",
    "               [9,10],\n",
    "               [10,11]])"
   ]
  },
  {
   "cell_type": "code",
   "execution_count": 65,
   "id": "8beb4982",
   "metadata": {},
   "outputs": [
    {
     "data": {
      "text/plain": [
       "array([[ 1,  2],\n",
       "       [ 3,  4],\n",
       "       [ 5,  6],\n",
       "       [ 7,  8],\n",
       "       [ 9, 10],\n",
       "       [10, 11]])"
      ]
     },
     "execution_count": 65,
     "metadata": {},
     "output_type": "execute_result"
    }
   ],
   "source": [
    "np.vstack((a1,a2))"
   ]
  },
  {
   "cell_type": "markdown",
   "id": "7d8dc135",
   "metadata": {},
   "source": [
    "Zad.14. Jaką funkcją można znaleźć najczęściej występującą wartość w arrayce? Przeszukaj dokumentację :)"
   ]
  },
  {
   "cell_type": "code",
   "execution_count": 73,
   "id": "f31ad9fe",
   "metadata": {},
   "outputs": [],
   "source": [
    "#sposob 1"
   ]
  },
  {
   "cell_type": "code",
   "execution_count": 66,
   "id": "3978a7a2",
   "metadata": {},
   "outputs": [
    {
     "name": "stdout",
     "output_type": "stream",
     "text": [
      "1\n"
     ]
    }
   ],
   "source": [
    "a = np.array([1,2,3,1,2,1,1,1,3,2,2,1])\n",
    "counts = np.bincount(a)\n",
    "print(np.argmax(counts))"
   ]
  },
  {
   "cell_type": "code",
   "execution_count": 74,
   "id": "f4a8593c",
   "metadata": {},
   "outputs": [],
   "source": [
    "#sposob 2"
   ]
  },
  {
   "cell_type": "code",
   "execution_count": 72,
   "id": "12f26f59",
   "metadata": {},
   "outputs": [
    {
     "data": {
      "text/plain": [
       "ModeResult(mode=array([1]), count=array([6]))"
      ]
     },
     "execution_count": 72,
     "metadata": {},
     "output_type": "execute_result"
    }
   ],
   "source": [
    "from scipy.stats import mode\n",
    "mode(a)"
   ]
  },
  {
   "cell_type": "code",
   "execution_count": 75,
   "id": "c6e9848d",
   "metadata": {},
   "outputs": [],
   "source": [
    "#sposob 3"
   ]
  },
  {
   "cell_type": "code",
   "execution_count": 71,
   "id": "a6e93579",
   "metadata": {},
   "outputs": [
    {
     "data": {
      "text/plain": [
       "1"
      ]
     },
     "execution_count": 71,
     "metadata": {},
     "output_type": "execute_result"
    }
   ],
   "source": [
    "from statistics import mode\n",
    "mode(a)"
   ]
  }
 ],
 "metadata": {
  "kernelspec": {
   "display_name": "Python 3",
   "language": "python",
   "name": "python3"
  },
  "language_info": {
   "codemirror_mode": {
    "name": "ipython",
    "version": 3
   },
   "file_extension": ".py",
   "mimetype": "text/x-python",
   "name": "python",
   "nbconvert_exporter": "python",
   "pygments_lexer": "ipython3",
   "version": "3.8.8"
  }
 },
 "nbformat": 4,
 "nbformat_minor": 5
}
