{
 "cells": [
  {
   "cell_type": "markdown",
   "id": "4f9b6311",
   "metadata": {},
   "source": [
    "1. Napisz funkcję o nazwie show_numbers, która przyjmuje parametr o nazwie limit. Powinien wydrukować wszystkie liczby od 0 do limitu z etykietą, aby zidentyfikować liczby parzyste i nieparzyste. Na przykład, jeśli limit wynosi 3, powinien wydrukować:\n",
    "<br> 0 EVEN\n",
    "<br> 1 ODD \n",
    "<br> 2 EVEN \n",
    "<br> 3 ODD"
   ]
  },
  {
   "cell_type": "code",
   "execution_count": 6,
   "id": "171cdcfb",
   "metadata": {},
   "outputs": [
    {
     "name": "stdout",
     "output_type": "stream",
     "text": [
      "0 EVEN\n",
      "1 ODD\n",
      "2 EVEN\n",
      "3 ODD\n"
     ]
    }
   ],
   "source": [
    "def show_numbers(x):\n",
    "    for i in range(x+1):\n",
    "        if i % 2 == 0:\n",
    "            print(i, 'EVEN')\n",
    "        else:\n",
    "            print(i, 'ODD')\n",
    "            \n",
    "show_numbers(3)"
   ]
  },
  {
   "cell_type": "markdown",
   "id": "418fa94a",
   "metadata": {},
   "source": [
    "2. Napisz funkcję, która wypisuje wszystkie liczby pierwsze od 0 do limitu, gdzie limit jest parametrem."
   ]
  },
  {
   "cell_type": "code",
   "execution_count": 16,
   "id": "c159f1fe",
   "metadata": {},
   "outputs": [
    {
     "name": "stdout",
     "output_type": "stream",
     "text": [
      "[2, 3, 5, 7, 11, 13, 17, 19, 23, 29, 31, 37, 41, 43, 47, 53, 59, 61, 67, 71, 73, 79, 83, 89, 97]\n",
      "Up to  100  there are: 25 prime numbers\n"
     ]
    }
   ],
   "source": [
    "def prime_numbers(n):\n",
    "    prime_sum = []\n",
    "    for num in range(2, n+1):\n",
    "        if num > 1:\n",
    "            for i in range(2, num):\n",
    "                if (num % i) == 0:\n",
    "                    break\n",
    "            else:\n",
    "                prime_sum.append(num)\n",
    "    print(prime_sum)\n",
    "    print('Up to ', n, ' there are: %s prime numbers' % len(prime_sum) )\n",
    "prime_numbers(100)\n"
   ]
  },
  {
   "cell_type": "markdown",
   "id": "5e5ac591",
   "metadata": {},
   "source": [
    "3. Napisz funkcję char_freq(), która pobiera łańcuch i tworzy listę częstości zawartych w nim znaków. <br> Przedstaw tę listę jako słownik Pythona (kluczem bedzie znak a wartoscia jego czestosc wystepowania). \n",
    "<br> Spróbuj z czymś takim jak char_freq(\"abbabcbdbabdbdbababcbcbab\") (tutaj podano przykladowy lancuch)."
   ]
  },
  {
   "cell_type": "code",
   "execution_count": 61,
   "id": "76ab4b15",
   "metadata": {},
   "outputs": [
    {
     "name": "stdout",
     "output_type": "stream",
     "text": [
      "{'a': 5, 'b': 12, 'c': 2, 'd': 2}\n"
     ]
    }
   ],
   "source": [
    "def char_freq(chain):\n",
    "    frequency = {}\n",
    "    for letter in chain:\n",
    "        if letter not in frequency:\n",
    "            frequency[letter] = 0\n",
    "        else:\n",
    "            frequency[letter] += 1      \n",
    "    print(frequency)\n",
    "        \n",
    "char_freq(\"abbabcbdbabdbdbababcbcbab\")"
   ]
  },
  {
   "cell_type": "markdown",
   "id": "13190c39",
   "metadata": {},
   "source": [
    "4. Napisz funkcje, ktora znajdzie wszystkie liczby podzielne przez 7, ale nie będące wielokrotnością 5,między 2000 a 3200. Uzyskane liczby należy podać w liście jako wyjście z funkcji."
   ]
  },
  {
   "cell_type": "code",
   "execution_count": 72,
   "id": "40c7c2e2",
   "metadata": {},
   "outputs": [
    {
     "name": "stdout",
     "output_type": "stream",
     "text": [
      "[2002, 2009, 2016, 2023, 2037, 2044, 2051, 2058, 2072, 2079, 2086, 2093, 2107, 2114, 2121, 2128, 2142, 2149, 2156, 2163, 2177, 2184, 2191, 2198, 2212, 2219, 2226, 2233, 2247, 2254, 2261, 2268, 2282, 2289, 2296, 2303, 2317, 2324, 2331, 2338, 2352, 2359, 2366, 2373, 2387, 2394, 2401, 2408, 2422, 2429, 2436, 2443, 2457, 2464, 2471, 2478, 2492, 2499, 2506, 2513, 2527, 2534, 2541, 2548, 2562, 2569, 2576, 2583, 2597, 2604, 2611, 2618, 2632, 2639, 2646, 2653, 2667, 2674, 2681, 2688, 2702, 2709, 2716, 2723, 2737, 2744, 2751, 2758, 2772, 2779, 2786, 2793, 2807, 2814, 2821, 2828, 2842, 2849, 2856, 2863, 2877, 2884, 2891, 2898, 2912, 2919, 2926, 2933, 2947, 2954, 2961, 2968, 2982, 2989, 2996, 3003, 3017, 3024, 3031, 3038, 3052, 3059, 3066, 3073, 3087, 3094, 3101, 3108, 3122, 3129, 3136, 3143, 3157, 3164, 3171, 3178, 3192, 3199]\n",
      "There are  138 of them.\n"
     ]
    }
   ],
   "source": [
    "def find_number(x,y):\n",
    "    list_of_numbers = []\n",
    "    for number in range(x, y):\n",
    "        if number % 7 == 0 and number % 5 != 0:\n",
    "            list_of_numbers.append(number)\n",
    "    print(list_of_numbers)\n",
    "    print('There are  %d of them.' % len(list_of_numbers))\n",
    "find_number(2000, 3200)"
   ]
  },
  {
   "cell_type": "markdown",
   "id": "f230e79a",
   "metadata": {},
   "source": [
    "5. Napisz funkcję, która przyjmuje jako dane wejściowe ciąg słów oddzielonych przecinkami i wyświetla je w kolejności oddzielonej przecinkami po posortowaniu alfabetycznym.\n",
    "<br> Załóżmy, że dostarczane są następujące dane wejściowe: \n",
    "<br> **bez, witaj, torba, świat**,\n",
    "<br> Następnie dane wyjściowe powinny mieć postać:\n",
    "<br> **bez, cześć, świat, torba**"
   ]
  },
  {
   "cell_type": "code",
   "execution_count": 93,
   "id": "ddc95461",
   "metadata": {},
   "outputs": [
    {
     "name": "stdout",
     "output_type": "stream",
     "text": [
      "bez, torba, witaj, świat,\n"
     ]
    }
   ],
   "source": [
    "def sort_words(x):\n",
    "    a = (sorted(x.split()))\n",
    "    b = ' '.join(a)\n",
    "    print(b)\n",
    "sort_words('bez, witaj, torba, świat,')"
   ]
  },
  {
   "cell_type": "markdown",
   "id": "39a85ec5",
   "metadata": {},
   "source": [
    "6. Napisz funkcję, która ma drukować słownik, w którym klucze są liczbami, a wartości są kwadratami tych kluczy."
   ]
  },
  {
   "cell_type": "code",
   "execution_count": 25,
   "id": "6b180d6a",
   "metadata": {},
   "outputs": [
    {
     "name": "stdout",
     "output_type": "stream",
     "text": [
      "{'siała': 1, 'baba': 2, 'mak': 3, 'nie': 4, 'wiedziała': 5, 'jak': 6}\n",
      "{'siała': 1, 'baba': 4, 'mak': 9, 'nie': 16, 'wiedziała': 25, 'jak': 36}\n"
     ]
    }
   ],
   "source": [
    "def dict_printer(squared):\n",
    "    for key, value in squared.items():\n",
    "        squared[key] = (value **2)\n",
    "    return squared\n",
    "\n",
    "d = {'siała': 1, 'baba': 2, 'mak': 3, 'nie': 4, 'wiedziała': 5, 'jak': 6}\n",
    "e = dict_printer(d.copy())\n",
    "print(d)\n",
    "print(e)"
   ]
  },
  {
   "cell_type": "markdown",
   "id": "3990bb57",
   "metadata": {},
   "source": [
    "7. Napisz funkcję w Pythonie, który znajdzie medianę trzech wartości.\n",
    "<br> Przyklad rozwiazania:\n",
    "<br> Input first number: 15\n",
    "<br> Input second number: 26\n",
    "<br> Input third number: 29\n",
    "<br> The median is 26.0\n"
   ]
  },
  {
   "cell_type": "code",
   "execution_count": 42,
   "id": "8af7a16c",
   "metadata": {},
   "outputs": [
    {
     "name": "stdout",
     "output_type": "stream",
     "text": [
      "Write amount of numbers to calculate the median: 3\n",
      "Write #1 number : 45\n",
      "Write #2 number : 87\n",
      "Write #3 number : 33\n",
      "The median of given numbers is:  45\n"
     ]
    }
   ],
   "source": [
    "import statistics\n",
    "def find_median():\n",
    "    numbers = []\n",
    "    for number in range(int(input(\"Write amount of numbers to calculate the median: \"))):\n",
    "        given_number = int(input(f\"Write #{number+1} number : \"))\n",
    "        numbers.append(given_number)\n",
    "    print('The median of given numbers is: ', statistics.median(numbers))\n",
    "find_median()"
   ]
  },
  {
   "cell_type": "markdown",
   "id": "e9c2378c",
   "metadata": {},
   "source": [
    "1*. Stwórz grę dla dwóch graczy Kamień-Papier-Nożyce.\n",
    "<br> (Wskazówka: Poproś o zagrania graczy (za pomocą danych wejściowych), porównaj je, wydrukuj wiadomość z gratulacjami dla zwycięzcy i zapytaj, czy gracze chcą rozpocząć nową grę).\n",
    "<br> Zapamiętaj zasady:\n",
    "<br> Rock bije nożyczki \n",
    "<br> Nożyczki biją papier \n",
    "<br> Papier bije kamien"
   ]
  },
  {
   "cell_type": "code",
   "execution_count": 11,
   "id": "1be86bf5",
   "metadata": {},
   "outputs": [
    {
     "name": "stdout",
     "output_type": "stream",
     "text": [
      "Give the name of player no 1: ewa\n",
      "Give the name of player no 2: cys\n",
      "ewa rock scissors or paper?: tata\n",
      "cys rock scissors or paper?: shsh\n",
      "Invalid input! Enter one of these: rock, scissors, paper.\n"
     ]
    }
   ],
   "source": [
    "player1 = input(\"Give the name of player no 1: \") \n",
    "player2 = input(\"Give the name of player no 2: \")\n",
    "\n",
    "player1_answ = input(\"%s rock scissors or paper?: \" % player1)\n",
    "player2_answ = input(\"%s rock scissors or paper?: \" % player2)\n",
    "\n",
    "def game(p1, p2):\n",
    "    if p1 == p2:\n",
    "        return(\"It's a tie!\")\n",
    "    elif p1 == 'rock':\n",
    "        if p2 == 'scissors':\n",
    "            return('Rock wins!')\n",
    "        else:\n",
    "            return(\"Paper wins!\")\n",
    "    elif p1 == \"scissors\":\n",
    "        if p2 == \"paper\":\n",
    "            return(\"Scissors wins!\")\n",
    "        else:\n",
    "            return(\"Rock wins!\")\n",
    "    elif p1 == \"paper\":\n",
    "            if p2 == \"rock\":\n",
    "                return(\"Paper wins!\")\n",
    "            else:\n",
    "                return(\"Scissors wins!\")\n",
    "    else:\n",
    "        return(\"Invalid input! Enter one of these: rock, scissors, paper.\")\n",
    "        sys.exit()\n",
    "print(game(player1_answ, player2_answ))"
   ]
  },
  {
   "cell_type": "code",
   "execution_count": null,
   "id": "b100690c",
   "metadata": {},
   "outputs": [],
   "source": []
  }
 ],
 "metadata": {
  "kernelspec": {
   "display_name": "Python 3",
   "language": "python",
   "name": "python3"
  },
  "language_info": {
   "codemirror_mode": {
    "name": "ipython",
    "version": 3
   },
   "file_extension": ".py",
   "mimetype": "text/x-python",
   "name": "python",
   "nbconvert_exporter": "python",
   "pygments_lexer": "ipython3",
   "version": "3.8.8"
  }
 },
 "nbformat": 4,
 "nbformat_minor": 5
}
